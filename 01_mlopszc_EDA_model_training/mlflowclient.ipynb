{
 "cells": [
  {
   "cell_type": "code",
   "execution_count": 1,
   "id": "7b09ec83",
   "metadata": {},
   "outputs": [
    {
     "name": "stderr",
     "output_type": "stream",
     "text": [
      "2025/07/23 23:01:00 INFO mlflow.store.db.utils: Creating initial MLflow database tables...\n",
      "2025/07/23 23:01:00 INFO mlflow.store.db.utils: Updating database tables\n",
      "INFO  [alembic.runtime.migration] Context impl SQLiteImpl.\n",
      "INFO  [alembic.runtime.migration] Will assume non-transactional DDL.\n",
      "INFO  [alembic.runtime.migration] Context impl SQLiteImpl.\n",
      "INFO  [alembic.runtime.migration] Will assume non-transactional DDL.\n"
     ]
    }
   ],
   "source": [
    "from mlflow.tracking import MlflowClient\n",
    "\n",
    "MLFLOW_TRACKING_URI = 'sqlite:///mlflow.db'\n",
    "\n",
    "client = MlflowClient(tracking_uri = MLFLOW_TRACKING_URI)"
   ]
  },
  {
   "cell_type": "code",
   "execution_count": 3,
   "id": "e6667e0d",
   "metadata": {},
   "outputs": [
    {
     "name": "stdout",
     "output_type": "stream",
     "text": [
      "ID: 1 | Name: Spine-disease-exp\n",
      "ID: 0 | Name: Default\n"
     ]
    }
   ],
   "source": [
    "# List all experiments (modern API)\n",
    "experiments = client.search_experiments()  # Replaces list_experiments\n",
    "\n",
    "# Print experiment info\n",
    "for exp in experiments:\n",
    "    print(f\"ID: {exp.experiment_id} | Name: {exp.name}\")"
   ]
  },
  {
   "cell_type": "code",
   "execution_count": null,
   "id": "c316ae26",
   "metadata": {},
   "outputs": [],
   "source": [
    "client.transition_model_version_stage(\n",
    "    name=\"model\",\n",
    "    version=1,  # Your version number\n",
    "    stage=\"Staging\",\n",
    "    archive_existing_versions=True  # Auto-archive previous staged versions\n",
    ")"
   ]
  }
 ],
 "metadata": {
  "kernelspec": {
   "display_name": ".venv",
   "language": "python",
   "name": "python3"
  },
  "language_info": {
   "codemirror_mode": {
    "name": "ipython",
    "version": 3
   },
   "file_extension": ".py",
   "mimetype": "text/x-python",
   "name": "python",
   "nbconvert_exporter": "python",
   "pygments_lexer": "ipython3",
   "version": "3.12.3"
  }
 },
 "nbformat": 4,
 "nbformat_minor": 5
}
