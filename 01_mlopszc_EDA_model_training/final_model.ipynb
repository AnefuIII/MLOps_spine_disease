{
 "cells": [
  {
   "cell_type": "code",
   "execution_count": 3,
   "id": "8e22b154",
   "metadata": {},
   "outputs": [
    {
     "name": "stderr",
     "output_type": "stream",
     "text": [
      "/mnt/c/Users/anefu/Desktop/AI/mlopszc_project/.venv/lib/python3.12/site-packages/hyperopt/atpe.py:19: UserWarning: pkg_resources is deprecated as an API. See https://setuptools.pypa.io/en/latest/pkg_resources.html. The pkg_resources package is slated for removal as early as 2025-11-30. Refrain from using this package or pin to Setuptools<81.\n",
      "  import pkg_resources\n"
     ]
    }
   ],
   "source": [
    "import pip\n",
    "import pickle\n",
    "import pandas as pd\n",
    "import numpy as np\n",
    "import mlflow\n",
    "import mlflow.xgboost\n",
    "from hyperopt import fmin, tpe, hp, STATUS_OK, Trials\n",
    "from xgboost import XGBClassifier\n",
    "\n",
    "import sklearn\n",
    "from sklearn.model_selection import train_test_split\n",
    "from sklearn.metrics import roc_auc_score, accuracy_score, f1_score\n",
    "from mlflow.models.signature import infer_signature"
   ]
  },
  {
   "cell_type": "code",
   "execution_count": 4,
   "id": "1fa90a08",
   "metadata": {},
   "outputs": [],
   "source": [
    "mlflow.set_tracking_uri('http://localhost:5000')\n",
    "mlflow.set_experiment('Spine-disease-exp')\n",
    "mlflow.sklearn.autolog()"
   ]
  },
  {
   "cell_type": "code",
   "execution_count": 5,
   "id": "7e0a6117",
   "metadata": {},
   "outputs": [],
   "source": [
    "url = './data/Dataset_spine.csv'\n",
    "\n",
    "def read_dataframe(url):\n",
    "    df = pd.read_csv(url)\n",
    "    #df.head()\n",
    "\n",
    "    return df"
   ]
  },
  {
   "cell_type": "code",
   "execution_count": 6,
   "id": "2970fcab",
   "metadata": {},
   "outputs": [],
   "source": [
    "def preprocessing(df):\n",
    "    df.columns = df.columns.str.lower().str.replace(' ', '_')\n",
    "\n",
    "    df['class_att'] = df['class_att'].map({'Abnormal': 0, 'Normal': 1}).astype(int)\n",
    "\n",
    "    X = df.iloc[:, :-1].values\n",
    "    y = df.iloc[:, -1].values\n",
    "\n",
    "    X_train, X_test, y_train, y_test = train_test_split(X, y, test_size=0.2, random_state=42, stratify = y)\n",
    "\n",
    "    return X_train, X_test, y_train, y_test"
   ]
  },
  {
   "cell_type": "code",
   "execution_count": 8,
   "id": "fc7ec8a0",
   "metadata": {},
   "outputs": [],
   "source": [
    "def train_model(X_train, X_test, y_train, y_test):\n",
    "\n",
    "    best_params = {\n",
    "    'n_estimators': 150,\n",
    "    'max_depth': 10,\n",
    "    'learning_rate': 0.1086,\n",
    "    'subsample': 0.7775,\n",
    "    'colsample_bytree': 0.6674,\n",
    "    'gamma': 3.2692\n",
    "    }\n",
    "\n",
    "    # Start MLflow run\n",
    "    with mlflow.start_run(run_name=\"xgb_Final_Model_Training\"):\n",
    "        # Initialize model with **unpacked** parameters\n",
    "        final_model = XGBClassifier(\n",
    "            **best_params,\n",
    "            random_state=42,\n",
    "            eval_metric='logloss',\n",
    "            use_label_encoder=False\n",
    "        )\n",
    "        \n",
    "        # Train with MLflow autologging\n",
    "        # mlflow.xgboost.autolog(\n",
    "        #     log_input_examples=True,\n",
    "        #     log_model_signatures=True,\n",
    "        #     log_models=True\n",
    "        #)\n",
    "        \n",
    "        final_model.fit(\n",
    "            X_train, \n",
    "            y_train,\n",
    "            eval_set=[(X_test, y_test)],\n",
    "            verbose=True\n",
    "        )\n",
    "        \n",
    "        # Manual logging to ensure all metrics are captured\n",
    "        y_pred = final_model.predict(X_test)\n",
    "        y_proba = final_model.predict_proba(X_test)[:, 1]\n",
    "        \n",
    "        mlflow.log_metrics({\n",
    "            \"test_accuracy\": accuracy_score(y_test, y_pred),\n",
    "            \"test_auc\": roc_auc_score(y_test, y_proba),\n",
    "            \"test_f1\": f1_score(y_test, y_pred)\n",
    "        })\n",
    "        \n",
    "        with open('models/xgbclassifier.pkl', 'wb') as f_out:\n",
    "            pickle.dump(XGB, f_out)\n",
    "\n",
    "        mlflow.log_artifact(local_path = 'models/xgbclassifier.pkl', artifact_path = 'local_model')\n",
    "        # Explicit model logging (redundant but ensures capture)\n",
    "        # mlflow.xgboost.log_model(\n",
    "        #     xgb_model=final_model,\n",
    "        #     name=\"production_model\",\n",
    "        #     signature=infer_signature(X_train, final_model.predict(X_train)),\n",
    "        #     input_example=X_train[:1]\n",
    "        # )\n",
    "\n",
    "    print(\"Final model trained and logged successfully!\")"
   ]
  },
  {
   "cell_type": "code",
   "execution_count": null,
   "id": "0f9adaad",
   "metadata": {},
   "outputs": [],
   "source": [
    "df = read_dataframe(url)\n",
    "X_train, X_test, y_train, y_test = preprocessing(df)\n",
    "train_model = train_model(X_train, X_test, y_train, y_test)"
   ]
  },
  {
   "cell_type": "code",
   "execution_count": null,
   "id": "80ca5ead",
   "metadata": {},
   "outputs": [],
   "source": []
  }
 ],
 "metadata": {
  "kernelspec": {
   "display_name": ".venv",
   "language": "python",
   "name": "python3"
  },
  "language_info": {
   "codemirror_mode": {
    "name": "ipython",
    "version": 3
   },
   "file_extension": ".py",
   "mimetype": "text/x-python",
   "name": "python",
   "nbconvert_exporter": "python",
   "pygments_lexer": "ipython3",
   "version": "3.12.3"
  }
 },
 "nbformat": 4,
 "nbformat_minor": 5
}
